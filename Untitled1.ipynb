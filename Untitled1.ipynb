{
  "nbformat": 4,
  "nbformat_minor": 0,
  "metadata": {
    "colab": {
      "name": "Untitled1.ipynb",
      "provenance": [],
      "collapsed_sections": [],
      "authorship_tag": "ABX9TyOzfJr3psdLDMl0SIls8mL+",
      "include_colab_link": true
    },
    "kernelspec": {
      "name": "python3",
      "display_name": "Python 3"
    }
  },
  "cells": [
    {
      "cell_type": "markdown",
      "metadata": {
        "id": "view-in-github",
        "colab_type": "text"
      },
      "source": [
        "<a href=\"https://colab.research.google.com/github/llilsaber/python_start/blob/main/Untitled1.ipynb\" target=\"_parent\"><img src=\"https://colab.research.google.com/assets/colab-badge.svg\" alt=\"Open In Colab\"/></a>"
      ]
    },
    {
      "cell_type": "code",
      "metadata": {
        "colab": {
          "base_uri": "https://localhost:8080/"
        },
        "id": "yhFfilEzXVKH",
        "outputId": "678013c2-2fed-49b6-9093-42f14a4b3058"
      },
      "source": [
        "food = input('먹고 싶은 음식을 입력하세요 : ')\r\n",
        "print('당신이 입력한 먹고 싶은 음식은', food)"
      ],
      "execution_count": 3,
      "outputs": [
        {
          "output_type": "stream",
          "text": [
            "먹고 싶은 음식을 입력하세요 : 회\n",
            "당신이 입력한 먹고 싶은 음식은 회\n"
          ],
          "name": "stdout"
        }
      ]
    },
    {
      "cell_type": "code",
      "metadata": {
        "colab": {
          "base_uri": "https://localhost:8080/"
        },
        "id": "u4GZVaiYcAg3",
        "outputId": "8690d117-31df-4fec-935d-1d2e82d31562"
      },
      "source": [
        "if food == '우동':\r\n",
        "  print('우산을 들고간다')\r\n",
        "  print('돈 들고 간다')\r\n",
        "  print('우동집으로 간다')\r\n",
        "elif food == '짜장면':\r\n",
        "  print('중국집으로 간다')\r\n",
        "elif food == '라면':\r\n",
        "  print('분식집으로 간다')\r\n",
        "else:\r\n",
        "  print('집에서 먹는다')"
      ],
      "execution_count": 4,
      "outputs": [
        {
          "output_type": "stream",
          "text": [
            "집에서 먹는다\n"
          ],
          "name": "stdout"
        }
      ]
    },
    {
      "cell_type": "code",
      "metadata": {
        "colab": {
          "base_uri": "https://localhost:8080/"
        },
        "id": "RFrM3twndbfn",
        "outputId": "107f8500-41f7-4eae-b0a5-cb5969f8552a"
      },
      "source": [
        "start = 1\r\n",
        "while start <= 10:\r\n",
        "  print(start, '> 내가 반복')\r\n",
        "  start = start + 1"
      ],
      "execution_count": 5,
      "outputs": [
        {
          "output_type": "stream",
          "text": [
            "1 > 내가 반복\n",
            "2 > 내가 반복\n",
            "3 > 내가 반복\n",
            "4 > 내가 반복\n",
            "5 > 내가 반복\n",
            "6 > 내가 반복\n",
            "7 > 내가 반복\n",
            "8 > 내가 반복\n",
            "9 > 내가 반복\n",
            "10 > 내가 반복\n"
          ],
          "name": "stdout"
        }
      ]
    },
    {
      "cell_type": "code",
      "metadata": {
        "colab": {
          "base_uri": "https://localhost:8080/"
        },
        "id": "QcrWEqbFfcX7",
        "outputId": "46d084d2-df4b-46d9-aa2f-a3617037ed8f"
      },
      "source": [
        "for x in range(0, 10):\r\n",
        "  print(x, '> 나도 반복')"
      ],
      "execution_count": 8,
      "outputs": [
        {
          "output_type": "stream",
          "text": [
            "0 > 나도 반복\n",
            "1 > 나도 반복\n",
            "2 > 나도 반복\n",
            "3 > 나도 반복\n",
            "4 > 나도 반복\n",
            "5 > 나도 반복\n",
            "6 > 나도 반복\n",
            "7 > 나도 반복\n",
            "8 > 나도 반복\n",
            "9 > 나도 반복\n"
          ],
          "name": "stdout"
        }
      ]
    },
    {
      "cell_type": "code",
      "metadata": {
        "colab": {
          "base_uri": "https://localhost:8080/"
        },
        "id": "qSIZ6jYojbEr",
        "outputId": "09b8913a-675a-467a-d101-62e2b0e7ace3"
      },
      "source": [
        "now = input('현재 시간은 몇시 인가요? ')\r\n",
        "if now < '11':\r\n",
        "  print('굿모닝')\r\n",
        "elif now < '15':\r\n",
        "  print('굿애프터눈')\r\n",
        "elif now < '20':\r\n",
        "  print('굿이브닝')\r\n",
        "else:\r\n",
        "  print('굿나잇')"
      ],
      "execution_count": 12,
      "outputs": [
        {
          "output_type": "stream",
          "text": [
            "현재 시간은 몇시 인가요? 15\n",
            "굿이브닝\n"
          ],
          "name": "stdout"
        }
      ]
    },
    {
      "cell_type": "code",
      "metadata": {
        "colab": {
          "base_uri": "https://localhost:8080/"
        },
        "id": "RZOP-o9zlSgr",
        "outputId": "901fda12-e4eb-4b51-8392-68b761c778d3"
      },
      "source": [
        "wea = input('이번달은 몇 월인가요? ')\r\n",
        "if wea > '2' and wea < '6':\r\n",
        "  print('이번달은 봄 입니다')\r\n",
        "elif wea > '5' and wea < '9':\r\n",
        "  print('이번달은 여름 입니다')\r\n",
        "elif wea > '10' and wea < '12':\r\n",
        "  print('이번달은 가을 입니다')\r\n",
        "else:\r\n",
        "  print('이번달은 겨울 입니다')"
      ],
      "execution_count": 18,
      "outputs": [
        {
          "output_type": "stream",
          "text": [
            "이번달은 몇 월인가요? 2\n",
            "이번달은 겨울 입니다\n"
          ],
          "name": "stdout"
        }
      ]
    },
    {
      "cell_type": "code",
      "metadata": {
        "id": "Xv9c58YJlvlP"
      },
      "source": [
        ""
      ],
      "execution_count": null,
      "outputs": []
    },
    {
      "cell_type": "code",
      "metadata": {
        "id": "mCfQNqP-jbLb"
      },
      "source": [
        ""
      ],
      "execution_count": null,
      "outputs": []
    }
  ]
}